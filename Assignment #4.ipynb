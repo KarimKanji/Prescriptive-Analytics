{
 "cells": [
  {
   "cell_type": "markdown",
   "id": "3db5e4c3",
   "metadata": {},
   "source": [
    "# Tower of Hanoi, lösning:"
   ]
  },
  {
   "cell_type": "code",
   "execution_count": 19,
   "id": "91373670",
   "metadata": {},
   "outputs": [
    {
     "data": {
      "text/plain": [
       "[('A', 'C'),\n",
       " ('A', 'B'),\n",
       " ('C', 'B'),\n",
       " ('A', 'C'),\n",
       " ('B', 'A'),\n",
       " ('B', 'C'),\n",
       " ('A', 'C')]"
      ]
     },
     "execution_count": 19,
     "metadata": {},
     "output_type": "execute_result"
    }
   ],
   "source": [
    "def hanoi_dynamic(n, from_rod, to_rod, aux_rod, memo):\n",
    "    \"\"\"\n",
    "    Tower of Hanoi problem using dynamic programming.\n",
    "\n",
    "    n: Number of disks\n",
    "    from_rod: The start rod\n",
    "    to_rod: The target rod\n",
    "    aux_rod: The auxiliary rod\n",
    "    memo: Dictionary to memoize the solutions\n",
    "    \"\"\"\n",
    "    if n == 0:\n",
    "        return []\n",
    "\n",
    "    if (n, from_rod, to_rod, aux_rod) in memo:\n",
    "        return memo[(n, from_rod, to_rod, aux_rod)]\n",
    "\n",
    "    moves = []\n",
    "\n",
    "    # Move n - 1 disks from start to auxiliary\n",
    "    moves += hanoi_dynamic(n - 1, from_rod, aux_rod, to_rod, memo)\n",
    "\n",
    "    # Move the nth disk from start to target\n",
    "    moves.append((from_rod, to_rod))\n",
    "\n",
    "    # Move the n - 1 disks from auxiliary to target\n",
    "    moves += hanoi_dynamic(n - 1, aux_rod, to_rod, from_rod, memo)\n",
    "\n",
    "    memo[(n, from_rod, to_rod, aux_rod)] = moves\n",
    "    return moves\n",
    "\n",
    "# Memoization dictionary\n",
    "memo = {}\n",
    "\n",
    "# Get the sequence of moves for 3 disks using dynamic programming\n",
    "optimal_moves_dynamic = hanoi_dynamic(3, 'A', 'C', 'B', memo)\n",
    "optimal_moves_dynamic\n"
   ]
  },
  {
   "cell_type": "markdown",
   "id": "9b783087",
   "metadata": {},
   "source": [
    "# TEST med chatgpt:"
   ]
  },
  {
   "cell_type": "code",
   "execution_count": 38,
   "id": "f12f6434",
   "metadata": {},
   "outputs": [
    {
     "name": "stdout",
     "output_type": "stream",
     "text": [
      "Solution for state ('123', '', ''):\n",
      "Move disk from rod A to rod C\n",
      "Move disk from rod B to rod C\n",
      "Move disk from rod A to rod C\n",
      "Move disk from rod A to rod B\n",
      "Move disk from rod B to rod A\n",
      "Move disk from rod C to rod A\n",
      "Move disk from rod C to rod B\n",
      "Move disk from rod A to rod B\n",
      "Move disk from rod C to rod B\n",
      "Move disk from rod A to rod B\n",
      "Move disk from rod A to rod C\n",
      "Move disk from rod C to rod A\n",
      "Move disk from rod B to rod A\n",
      "Move disk from rod B to rod C\n",
      "\n",
      "Solution for state ('', '', '123'):\n",
      "\n",
      "Solution for state ('', '123', ''):\n",
      "\n"
     ]
    }
   ],
   "source": [
    "class TowerOfHanoiDP:\n",
    "    def __init__(self):\n",
    "        self.moves_memo = {}\n",
    "\n",
    "    def toh(self, disks, source, destination, auxiliary, current_state):\n",
    "        # If we reached the goal state, return an empty list of moves\n",
    "        if current_state == ((), (), tuple(range(disks, 0, -1))):\n",
    "            return []\n",
    "\n",
    "        # Check if we already have a solution for this state\n",
    "        if current_state in self.moves_memo:\n",
    "            return self.moves_memo[current_state]\n",
    "\n",
    "        # If there are no disks to move, return an empty list of moves\n",
    "        if disks == 0:\n",
    "            return []\n",
    "\n",
    "        # Attempt to move the largest disk from the source to the destination\n",
    "        moves = []\n",
    "        source_rod, auxiliary_rod, destination_rod = current_state\n",
    "        if source_rod and (not destination_rod or source_rod[-1] < destination_rod[-1]):\n",
    "            # Move the top disk from source to destination\n",
    "            new_destination = destination_rod + (source_rod[-1],)\n",
    "            new_source = source_rod[:-1]\n",
    "            # Solve the subproblem\n",
    "            moves += [(source, destination)] + self.toh(disks-1, auxiliary, destination, source,\n",
    "                                                       (new_source, auxiliary_rod, new_destination))\n",
    "\n",
    "        # Attempt to move the largest disk from the source to the auxiliary\n",
    "        if source_rod and (not auxiliary_rod or source_rod[-1] < auxiliary_rod[-1]):\n",
    "            # Move the top disk from source to auxiliary\n",
    "            new_auxiliary = auxiliary_rod + (source_rod[-1],)\n",
    "            new_source = source_rod[:-1]\n",
    "            # Solve the subproblem\n",
    "            moves += [(source, auxiliary)] + self.toh(disks-1, destination, auxiliary, source,\n",
    "                                                      (new_source, new_auxiliary, destination_rod))\n",
    "\n",
    "        # Memoize the solution\n",
    "        self.moves_memo[current_state] = moves\n",
    "\n",
    "        return moves\n",
    "\n",
    "    def solve_hanoi(self, disks, current_state):\n",
    "        source, auxiliary, destination = 'A', 'B', 'C'\n",
    "        return self.toh(disks, source, destination, auxiliary, current_state)\n",
    "\n",
    "# Example usage for a custom starting state (each tuple represents the disks on rods A, B, and C):\n",
    "custom_start_state = (('123', '', ''),  # Initial configuration\n",
    "                      ('', '', '123'),  # Goal configuration\n",
    "                      ('', '123', ''))  # Another possible configuration\n",
    "\n",
    "# Initialize the solver\n",
    "hanoi_solver = TowerOfHanoiDP()\n",
    "disks = 3  # Number of disks\n",
    "\n",
    "# Solve for each custom starting state\n",
    "for state in custom_start_state:\n",
    "    # Parse the state into the format the solver expects (tuples of ints)\n",
    "    parsed_state = tuple(tuple(int(disk) for disk in rod) for rod in state)\n",
    "    solution_moves = hanoi_solver.solve_hanoi(disks, parsed_state)\n",
    "    print(f\"Solution for state {state}:\")\n",
    "    for move in solution_moves:\n",
    "        print(f\"Move disk from rod {move[0]} to rod {move[1]}\")\n",
    "    print()"
   ]
  },
  {
   "cell_type": "markdown",
   "id": "28277340",
   "metadata": {},
   "source": [
    "# Test med q-learning från github repon:"
   ]
  },
  {
   "cell_type": "code",
   "execution_count": 21,
   "id": "12f3b1f8",
   "metadata": {},
   "outputs": [],
   "source": [
    "import numpy as np\n",
    "import itertools\n",
    "import pandas as pd\n",
    "import matplotlib.pyplot as plt"
   ]
  },
  {
   "cell_type": "code",
   "execution_count": 22,
   "id": "9a4917dd",
   "metadata": {},
   "outputs": [],
   "source": [
    "class TowersOfHanoi:\n",
    "    def __init__(self, state):\n",
    "        self.state = state              # \"State\" is a tuple of length N, where N is the number of discs, and the elements are peg indices in [0,1,2]\n",
    "        self.discs = len(self.state)\n",
    "\n",
    "    def discs_on_peg(self, peg):\n",
    "        return [disc for disc in range(self.discs) if self.state[disc] == peg]\n",
    "\n",
    "    def move_allowed(self, move):\n",
    "        discs_from = self.discs_on_peg(move[0])\n",
    "        discs_to = self.discs_on_peg(move[1])\n",
    "        if discs_from:\n",
    "            return (min(discs_to) > min(discs_from)) if discs_to else True\n",
    "        else:\n",
    "            return False\n",
    "\n",
    "    def get_moved_state(self, move):\n",
    "        if self.move_allowed(move):\n",
    "            disc_to_move = min(self.discs_on_peg(move[0]))\n",
    "        moved_state = list(self.state)\n",
    "        moved_state[disc_to_move] = move[1]\n",
    "        return tuple(moved_state)"
   ]
  },
  {
   "cell_type": "code",
   "execution_count": 23,
   "id": "566df3ab",
   "metadata": {},
   "outputs": [],
   "source": [
    "# Generates the reward matrix for the Towers of Hanoi game as a Pandas DataFrame\n",
    "def generate_reward_matrix(N):      # N is the number of discs\n",
    "    states = list(itertools.product(list(range(3)), repeat=N))\n",
    "    moves = list(itertools.permutations(list(range(3)), 2))\n",
    "    R = pd.DataFrame(index=states, columns=states, data=-np.inf)\n",
    "    for state in states:\n",
    "        tower = TowersOfHanoi(state=state)\n",
    "        for move in moves:\n",
    "            if tower.move_allowed(move):\n",
    "                next_state = tower.get_moved_state(move)\n",
    "                R[state][next_state] = 0\n",
    "    final_state = tuple([2]*N)          # Define final state as all discs being on the last peg\n",
    "    R[final_state] += 100               # Add a reward for all moves leading to the final state\n",
    "    return R.values"
   ]
  },
  {
   "cell_type": "code",
   "execution_count": 24,
   "id": "8d9ff312",
   "metadata": {},
   "outputs": [],
   "source": [
    "def learn_Q(R, gamma=0.8, alpha=1.0, N_episodes=1000):\n",
    "    Q = np.zeros(R.shape)\n",
    "    states=list(range(R.shape[0]))\n",
    "    for n in range(N_episodes):\n",
    "        Q_previous = Q\n",
    "        state = np.random.choice(states)                # Randomly select initial state\n",
    "        next_states = np.where(R[state,:] >= 0)[0]      # Generate a list of possible next states\n",
    "        next_state = np.random.choice(next_states)      # Randomly select next state from the list of possible next states\n",
    "        V = np.max(Q[next_state,:])                     # Maximum Q-value of the states accessible from the next state\n",
    "        Q[state, next_state] = (1-alpha)*Q[state, next_state] + alpha*(R[state, next_state] + gamma*V)      # Update Q-values\n",
    "    if np.max(Q) > 0:\n",
    "        Q /= np.max(Q)      # Normalize Q to its maximum value\n",
    "    return Q"
   ]
  },
  {
   "cell_type": "code",
   "execution_count": 25,
   "id": "5f86ba35",
   "metadata": {},
   "outputs": [],
   "source": [
    "def get_policy(Q, R):\n",
    "    Q_allowed = pd.DataFrame(Q)[pd.DataFrame(R) >= 0].values\n",
    "    policy = []\n",
    "    for i in range(Q_allowed.shape[0]):\n",
    "        row = Q_allowed[i,:]\n",
    "        sorted_vals = np.sort(row)\n",
    "        sorted_vals = sorted_vals[~np.isnan(sorted_vals)][::-1]\n",
    "        sorted_args = row.argsort()[np.where(~np.isnan(sorted_vals))][::-1]\n",
    "\n",
    "        max_vals = [val for val in sorted_vals if val==sorted_vals[0]]\n",
    "        max_args = [sorted_args[i] for i,val in enumerate(sorted_vals) if val==sorted_vals[0]]\n",
    "        policy.append(max_args)\n",
    "    return policy"
   ]
  },
  {
   "cell_type": "code",
   "execution_count": 26,
   "id": "cc1b1e4a",
   "metadata": {},
   "outputs": [],
   "source": [
    "def play(policy):\n",
    "    start_state = 0\n",
    "    end_state = len(policy)-1\n",
    "    state = start_state\n",
    "    moves = 0\n",
    "    while state != end_state:\n",
    "        state = np.random.choice(policy[state])\n",
    "        moves += 1\n",
    "    return moves"
   ]
  },
  {
   "cell_type": "code",
   "execution_count": 27,
   "id": "e8c3a3cf",
   "metadata": {},
   "outputs": [],
   "source": [
    "def play_average(policy, play_times=100):\n",
    "    moves = np.zeros(play_times)\n",
    "    for n in range(play_times):\n",
    "        moves[n] = play(policy)\n",
    "    return np.mean(moves), np.std(moves)\n",
    "\n",
    "def Q_performance(R, episodes, play_times=100):\n",
    "    means = np.zeros(len(episodes))\n",
    "    stds = np.zeros(len(episodes))\n",
    "    for n, N_episodes in enumerate(episodes):\n",
    "        Q = learn_Q(R, N_episodes = N_episodes)\n",
    "        policy = get_policy(Q,R)\n",
    "        means[n], stds[n] = play_average(policy, play_times)\n",
    "    return means, stds\n",
    "\n",
    "def Q_performance_average(R, episodes, learn_times = 100, play_times=100):\n",
    "    means_times = np.zeros((learn_times, len(episodes)))\n",
    "    stds_times = np.zeros((learn_times, len(episodes)))\n",
    "    for n in range(learn_times):\n",
    "        means_times[n,:], stds_times[n,:] = Q_performance(R, episodes, play_times=play_times)\n",
    "    means_averaged = np.mean(means_times, axis = 0)\n",
    "    stds_averaged = np.mean(stds_times, axis = 0)\n",
    "    return means_averaged, stds_averaged"
   ]
  },
  {
   "cell_type": "code",
   "execution_count": 28,
   "id": "7304ccf0",
   "metadata": {},
   "outputs": [],
   "source": [
    "def plot_results(episodes, means_averaged, stds_averaged, N, block=False):\n",
    "    fig = plt.figure()\n",
    "    plt.loglog(episodes, means_averaged,'b.-',label='Average performance')\n",
    "    plt.loglog(episodes, means_averaged + stds_averaged, 'b', alpha=0.5)\n",
    "    plt.loglog(episodes, means_averaged - stds_averaged, 'b', alpha=0.5)\n",
    "    plt.fill_between(episodes, means_averaged-stds_averaged, means_averaged+stds_averaged, facecolor='blue', alpha=0.5)\n",
    "    optimum_moves = 2**N - 1\n",
    "    plt.axhline(y=optimum_moves, color='g', label='Optimum (=%s moves)' % optimum_moves)\n",
    "    plt.xlabel('Number of training episodes')\n",
    "    plt.ylabel('Number of moves')\n",
    "    plt.grid('on', which='both')\n",
    "    plt.title('Q-learning the Towers of Hanoi game with %s discs' % N)\n",
    "    handles, labels = plt.gca().get_legend_handles_labels()\n",
    "    plt.legend(handles, labels)\n",
    "    plt.show(block=block)"
   ]
  },
  {
   "cell_type": "code",
   "execution_count": 29,
   "id": "33facf22",
   "metadata": {},
   "outputs": [
    {
     "data": {
      "image/png": "[encoded data removed]",
      "text/plain": [
       "<Figure size 640x480 with 1 Axes>"
      ]
     },
     "metadata": {},
     "output_type": "display_data"
    }
   ],
   "source": [
    "N = 3                                   # Number of discs in the Towers of Hanoi game\n",
    "R = generate_reward_matrix(N)\n",
    "episodes = [0, 1, 10, 30, 100, 300, 600, 1000, 3000, 6000]\n",
    "means_averaged, stds_averaged = Q_performance_average(R, episodes, learn_times=10, play_times=10)\n",
    "plot_results(episodes, means_averaged, stds_averaged, N)\n",
    "\n"
   ]
  },
  {
   "cell_type": "markdown",
   "id": "4a97f496",
   "metadata": {},
   "source": [
    "# Källor"
   ]
  },
  {
   "cell_type": "markdown",
   "id": "6e5f15f7",
   "metadata": {},
   "source": [
    "OpenAI. (2023). Code Generated by ChatGPT (4.0) [Code].\n",
    "Notis. ChatGPT användes i arbetet för att speglas med och producera kod som resulterade i ett förbättrat program vilket inte skulle ha varit möjligt utan AI stöd.\n",
    "\n",
    "https://github.com/khpeek/Q-learning-Hanoi"
   ]
  },
  {
   "cell_type": "code",
   "execution_count": null,
   "id": "b7d99920",
   "metadata": {},
   "outputs": [],
   "source": []
  }
 ],
 "metadata": {
  "kernelspec": {
   "display_name": "Python 3 (ipykernel)",
   "language": "python",
   "name": "python3"
  },
  "language_info": {
   "codemirror_mode": {
    "name": "ipython",
    "version": 3
   },
   "file_extension": ".py",
   "mimetype": "text/x-python",
   "name": "python",
   "nbconvert_exporter": "python",
   "pygments_lexer": "ipython3",
   "version": "3.9.13"
  }
 },
 "nbformat": 4,
 "nbformat_minor": 5
}
