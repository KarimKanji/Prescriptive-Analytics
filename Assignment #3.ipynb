{
 "cells": [
  {
   "cell_type": "markdown",
   "id": "3c67b3db",
   "metadata": {
    "id": "3c67b3db"
   },
   "source": [
    "# Hemläxa 03\n",
    "\n",
    "---\n",
    "\n",
    "\n",
    "### Karim Kanji IA20\n",
    "\n",
    "# FrozenLake\n",
    "Read more at:\n",
    "\n",
    "https://medium.com/swlh/frozen-lake-as-a-markov-decision-process-1692815ecfd1\n",
    "\n",
    "\n",
    "https://zoo.cs.yale.edu/classes/cs470/materials/hws/hw7/FrozenLake.html\n",
    "\n",
    "Documentation:\n",
    "https://gymnasium.farama.org/environments/toy_text/frozen_lake/"
   ]
  },
  {
   "cell_type": "code",
   "execution_count": 9,
   "id": "H2HqKaozOT7r",
   "metadata": {
    "colab": {
     "base_uri": "https://localhost:8080/"
    },
    "id": "H2HqKaozOT7r",
    "outputId": "4c0bf981-5226-4b10-b2e7-87829a0e1786"
   },
   "outputs": [
    {
     "name": "stdout",
     "output_type": "stream",
     "text": [
      "Requirement already satisfied: gymnasium in c:\\users\\karim\\anaconda3\\lib\\site-packages (0.29.1)\n",
      "Requirement already satisfied: farama-notifications>=0.0.1 in c:\\users\\karim\\anaconda3\\lib\\site-packages (from gymnasium) (0.0.4)\n",
      "Requirement already satisfied: numpy>=1.21.0 in c:\\users\\karim\\anaconda3\\lib\\site-packages (from gymnasium) (1.21.5)\n",
      "Requirement already satisfied: cloudpickle>=1.2.0 in c:\\users\\karim\\anaconda3\\lib\\site-packages (from gymnasium) (2.0.0)\n",
      "Requirement already satisfied: typing-extensions>=4.3.0 in c:\\users\\karim\\anaconda3\\lib\\site-packages (from gymnasium) (4.3.0)\n",
      "Requirement already satisfied: importlib-metadata>=4.8.0 in c:\\users\\karim\\anaconda3\\lib\\site-packages (from gymnasium) (4.11.3)\n",
      "Requirement already satisfied: zipp>=0.5 in c:\\users\\karim\\anaconda3\\lib\\site-packages (from importlib-metadata>=4.8.0->gymnasium) (3.8.0)\n",
      "Note: you may need to restart the kernel to use updated packages.\n"
     ]
    }
   ],
   "source": [
    "pip install gymnasium\n"
   ]
  },
  {
   "cell_type": "code",
   "execution_count": 10,
   "id": "7c4a7b26",
   "metadata": {},
   "outputs": [
    {
     "name": "stdout",
     "output_type": "stream",
     "text": [
      "Collecting pygame\n",
      "  Downloading pygame-2.5.2-cp39-cp39-win_amd64.whl (10.8 MB)\n",
      "     --------------------------------------- 10.8/10.8 MB 11.3 MB/s eta 0:00:00\n",
      "Installing collected packages: pygame\n",
      "Successfully installed pygame-2.5.2\n",
      "Note: you may need to restart the kernel to use updated packages.\n"
     ]
    }
   ],
   "source": [
    "pip install pygame"
   ]
  },
  {
   "cell_type": "code",
   "execution_count": 5,
   "id": "e6387b13",
   "metadata": {
    "id": "e6387b13"
   },
   "outputs": [],
   "source": [
    "# frozen-lake-ex3.py\n",
    "\n",
    "import gymnasium as gym\n",
    "from gymnasium.envs.toy_text.frozen_lake import generate_random_map\n",
    "\n",
    "\n",
    "\n",
    "# Actions in human language\n",
    "actions = {\n",
    "    'Left': 0,\n",
    "    'Down': 1,\n",
    "    'Right': 2,\n",
    "    'Up': 3\n",
    "}"
   ]
  },
  {
   "cell_type": "code",
   "execution_count": 6,
   "id": "6dc35318",
   "metadata": {
    "id": "6dc35318"
   },
   "outputs": [],
   "source": [
    "# Variabler\n",
    "slippery=False\n",
    "my_policy = ['Right'] + ['Right'] + ['Down'] + ['Down'] + ['Down'] + ['Right'] + ['Right'] + ['Down'] + ['Down'] + ['Right'] + ['Down'] + ['Down'] + ['Right'] + ['Right'] + ['Right']\n",
    "\n"
   ]
  },
  {
   "cell_type": "code",
   "execution_count": 7,
   "id": "b78dd81a",
   "metadata": {
    "id": "b78dd81a"
   },
   "outputs": [],
   "source": [
    "def my_frozenlake(slippery, my_policy):\n",
    "    # map8x8 = [\n",
    "    #     \"SFFFFFFF\",\n",
    "    #     \"FFFFFFFF\",\n",
    "    #     \"FFFHFFFF\",\n",
    "    #     \"FFFFFHFF\",\n",
    "    #     \"FFFHFFFF\",\n",
    "    #     \"FHHFFFHF\",\n",
    "    #     \"FHFFHFHF\",\n",
    "    #     \"FFFHFFFG\",\n",
    "    #     ]\n",
    "\n",
    "    print(\"--- Super amazing policy that will win! ---\")\n",
    "    print(my_policy)\n",
    "    print(\"Maze is slippery: \", slippery)\n",
    "\n",
    "    # env = gym.make(\"FrozenLake-v1\", is_slippery=slippery, render_mode=\"human\")\n",
    "    # Med random map generation, var det väldigt svårt att lösa uppgiften och gick i praktiken inte en ända gång av mina försök.\n",
    "    # env = gym.make('FrozenLake-v1', is_slippery = slippery, render_mode=\"ansi\", desc=generate_random_map(size=8))\n",
    "    env = gym.make(\"FrozenLake-v1\", is_slippery=slippery, render_mode=\"human\", map_name=\"8x8\")\n",
    "    env.reset()\n",
    "    env.render()\n",
    "    print(env.render())\n",
    "    for a in my_policy:\n",
    "        new_state, reward, done, truncated, info = env.step(actions[a])\n",
    "        print()\n",
    "        env.render()\n",
    "        print(\"Reward: {:.2f}\".format(reward))\n",
    "        print(\"Action:\",a)\n",
    "        print(info)\n",
    "        print(\"Position:\",new_state)\n",
    "        if done:\n",
    "            if reward == 1:\n",
    "                print(\"****You reached the goal!****\")\n",
    "            else:\n",
    "                print(\"****You fell through a hole!****\")\n",
    "            break\n",
    "    env.close()"
   ]
  },
  {
   "cell_type": "code",
   "execution_count": 8,
   "id": "f7667043",
   "metadata": {
    "colab": {
     "base_uri": "https://localhost:8080/"
    },
    "id": "f7667043",
    "outputId": "7f5dd2a0-49f4-4ade-f03f-0f4bfeb92158"
   },
   "outputs": [
    {
     "name": "stdout",
     "output_type": "stream",
     "text": [
      "--- Super amazing policy that will win! ---\n",
      "['Right', 'Right', 'Down', 'Down', 'Down', 'Right', 'Right', 'Down', 'Down', 'Right', 'Down', 'Down', 'Right', 'Right', 'Right']\n",
      "Maze is slippery:  False\n",
      "None\n",
      "\n",
      "Reward: 0.00\n",
      "Action: Right\n",
      "{'prob': 1.0}\n",
      "Position: 1\n",
      "\n",
      "Reward: 0.00\n",
      "Action: Right\n",
      "{'prob': 1.0}\n",
      "Position: 2\n",
      "\n",
      "Reward: 0.00\n",
      "Action: Down\n",
      "{'prob': 1.0}\n",
      "Position: 10\n",
      "\n",
      "Reward: 0.00\n",
      "Action: Down\n",
      "{'prob': 1.0}\n",
      "Position: 18\n",
      "\n",
      "Reward: 0.00\n",
      "Action: Down\n",
      "{'prob': 1.0}\n",
      "Position: 26\n",
      "\n",
      "Reward: 0.00\n",
      "Action: Right\n",
      "{'prob': 1.0}\n",
      "Position: 27\n",
      "\n",
      "Reward: 0.00\n",
      "Action: Right\n",
      "{'prob': 1.0}\n",
      "Position: 28\n",
      "\n",
      "Reward: 0.00\n",
      "Action: Down\n",
      "{'prob': 1.0}\n",
      "Position: 36\n",
      "\n",
      "Reward: 0.00\n",
      "Action: Down\n",
      "{'prob': 1.0}\n",
      "Position: 44\n",
      "\n",
      "Reward: 0.00\n",
      "Action: Right\n",
      "{'prob': 1.0}\n",
      "Position: 45\n",
      "\n",
      "Reward: 0.00\n",
      "Action: Down\n",
      "{'prob': 1.0}\n",
      "Position: 53\n",
      "\n",
      "Reward: 0.00\n",
      "Action: Down\n",
      "{'prob': 1.0}\n",
      "Position: 61\n",
      "\n",
      "Reward: 0.00\n",
      "Action: Right\n",
      "{'prob': 1.0}\n",
      "Position: 62\n",
      "\n",
      "Reward: 1.00\n",
      "Action: Right\n",
      "{'prob': 1.0}\n",
      "Position: 63\n",
      "****You reached the goal!****\n"
     ]
    }
   ],
   "source": [
    "# Kör functionen!\n",
    "my_frozenlake(slippery, my_policy)"
   ]
  },
  {
   "cell_type": "markdown",
   "id": "BnJPXT-KXRGW",
   "metadata": {
    "id": "BnJPXT-KXRGW"
   },
   "source": [
    "### Uppgift 1: Gör FrozenLake 8x8 storlek och lös den med en manuell policy (som i Hands-on). <br>\n",
    "\n",
    "---\n",
    "\n",
    "\n",
    "\n",
    "Jag började med att göra en randomized maze, men det gick såklart inte att lösa med en manuell policy. Därefter implementerade jag standard kartan 8x8 enlight ([Frozen Lake](https://gymnasium.farama.org/environments/toy_text/frozen_lake/)) <br><br>\n",
    "som ser ut som följande =\n",
    "\n",
    "    \"8x8\": [\n",
    "        \"SFFFFFFF\",\n",
    "        \"FFFFFFFF\",\n",
    "        \"FFFHFFFF\",\n",
    "        \"FFFFFHFF\",\n",
    "        \"FFFHFFFF\",\n",
    "        \"FHHFFFHF\",\n",
    "        \"FHFFHFHF\",\n",
    "        \"FFFHFFFG\",\n",
    "    ]\n",
    "\n",
    "För att lösa den använde ja följande moves:\n",
    "\n",
    "---\n",
    "\n",
    "\n",
    "\n",
    "**['Right'] + ['Right'] + ['Down'] + ['Down'] + ['Down'] + ['Right'] + ['Right'] + ['Down'] + ['Down'] + ['Right'] + ['Down'] + ['Down'] + ['Right'] + ['Right'] + ['Right']**\n",
    "\n",
    "---\n",
    "\n",
    "\n",
    "\n",
    "Detta ledde till att jag slapp till målet!\n"
   ]
  },
  {
   "cell_type": "markdown",
   "id": "82n6cK9lYdmq",
   "metadata": {
    "id": "82n6cK9lYdmq"
   },
   "source": [
    "### Uppgift 2: Träna en agent att lösa 8x8 FrozenLake med slippery=True och ta fram en policy\n",
    "\n",
    "---\n",
    "\n",
    "Kod från: [Exempel kod](https://github.com/johnnycode8/gym_solutions/blob/main/frozen_lake_q.py)\n"
   ]
  },
  {
   "cell_type": "code",
   "execution_count": 3,
   "id": "jLjWqFscZRJH",
   "metadata": {
    "id": "jLjWqFscZRJH"
   },
   "outputs": [
    {
     "data": {
      "image/png": "[encoded data removed]",
      "text/plain": [
       "<Figure size 640x480 with 1 Axes>"
      ]
     },
     "metadata": {},
     "output_type": "display_data"
    }
   ],
   "source": [
    "import gymnasium as gym\n",
    "import numpy as np\n",
    "import matplotlib.pyplot as plt\n",
    "import pickle\n",
    "\n",
    "def run(episodes, is_training=True, render=False):\n",
    "\n",
    "    env = gym.make('FrozenLake-v1', map_name=\"8x8\", is_slippery=True, render_mode='human' if render else None)\n",
    "\n",
    "    if(is_training):\n",
    "        q = np.zeros((env.observation_space.n, env.action_space.n)) # init a 64 x 4 array\n",
    "    else:\n",
    "        f = open('frozen_lake8x8.pkl', 'rb')\n",
    "        q = pickle.load(f)\n",
    "        f.close()\n",
    "\n",
    "    learning_rate_a = 0.9 # alpha or learning rate\n",
    "    discount_factor_g = 0.9 # gamma or discount rate. Near 0: more weight/reward placed on immediate state. Near 1: more on future state.\n",
    "    epsilon = 1         # 1 = 100% random actions\n",
    "    epsilon_decay_rate = 0.0001        # epsilon decay rate. 1/0.0001 = 10,000\n",
    "    rng = np.random.default_rng()   # random number generator\n",
    "\n",
    "    rewards_per_episode = np.zeros(episodes)\n",
    "\n",
    "    for i in range(episodes):\n",
    "        state = env.reset()[0]  # states: 0 to 63, 0=top left corner,63=bottom right corner\n",
    "        terminated = False      # True when fall in hole or reached goal\n",
    "        truncated = False       # True when actions > 200\n",
    "\n",
    "        while(not terminated and not truncated):\n",
    "            if is_training and rng.random() < epsilon:\n",
    "                action = env.action_space.sample() # actions: 0=left,1=down,2=right,3=up\n",
    "            else:\n",
    "                action = np.argmax(q[state,:])\n",
    "\n",
    "            new_state,reward,terminated,truncated,_ = env.step(action)\n",
    "\n",
    "            if is_training:\n",
    "                q[state,action] = q[state,action] + learning_rate_a * (\n",
    "                    reward + discount_factor_g * np.max(q[new_state,:]) - q[state,action]\n",
    "                )\n",
    "\n",
    "            state = new_state\n",
    "\n",
    "        epsilon = max(epsilon - epsilon_decay_rate, 0)\n",
    "\n",
    "        if(epsilon==0):\n",
    "            learning_rate_a = 0.0001\n",
    "\n",
    "        if reward == 1:\n",
    "            rewards_per_episode[i] = 1\n",
    "\n",
    "    env.close()\n",
    "\n",
    "    sum_rewards = np.zeros(episodes)\n",
    "    for t in range(episodes):\n",
    "        sum_rewards[t] = np.sum(rewards_per_episode[max(0, t-100):(t+1)])\n",
    "    plt.plot(sum_rewards)\n",
    "    plt.savefig('frozen_lake8x8.png')\n",
    "\n",
    "    if is_training:\n",
    "        f = open(\"frozen_lake8x8.pkl\",\"wb\")\n",
    "        pickle.dump(q, f)\n",
    "        f.close()\n",
    "\n",
    "if __name__ == '__main__':\n",
    "    # run(15000)\n",
    "\n",
    "    run(15000, is_training=True, render=False)"
   ]
  },
  {
   "cell_type": "markdown",
   "id": "a1ad161b",
   "metadata": {
    "id": "1SrxtNYgo93G"
   },
   "source": [
    "### Varför använda Q learning?\n",
    "\n",
    "\n",
    "Svar: på grund av dess enkelhet och effektivitet i många problemställningar, speciellt de med diskreta tillstånds- och åtgärdsrum. Det är en modellfri metod som inte kräver kunskap om miljöns dynamik och kan hitta en optimal strategi genom att enbart utforska miljön."
   ]
  },
  {
   "cell_type": "markdown",
   "id": "c1fe9aed",
   "metadata": {},
   "source": [
    "# Hur gick det? Beskriv resultaten. Reflektera mot er manuella policy, blev det bättre/sämre?\n",
    "\n",
    "Q learning metoden lyckades väl. Det är svårt att jämföra med en manuell metod eftersom där är omgivningen känd och därmed kan man manuellt bestämma rörelserna som agenten tar. Allt som allt verkar koden från johnnycode8 leverera ett bra resultat"
   ]
  },
  {
   "cell_type": "code",
   "execution_count": null,
   "id": "b4caa239",
   "metadata": {},
   "outputs": [],
   "source": []
  }
 ],
 "metadata": {
  "accelerator": "GPU",
  "colab": {
   "gpuType": "T4",
   "provenance": []
  },
  "kernelspec": {
   "display_name": "Python 3 (ipykernel)",
   "language": "python",
   "name": "python3"
  },
  "language_info": {
   "codemirror_mode": {
    "name": "ipython",
    "version": 3
   },
   "file_extension": ".py",
   "mimetype": "text/x-python",
   "name": "python",
   "nbconvert_exporter": "python",
   "pygments_lexer": "ipython3",
   "version": "3.9.13"
  }
 },
 "nbformat": 4,
 "nbformat_minor": 5
}
